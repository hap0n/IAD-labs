{
 "cells": [
  {
   "cell_type": "code",
   "execution_count": 1,
   "metadata": {},
   "outputs": [],
   "source": [
    "import pandas as pd\n",
    "\n",
    "from numpy import arange\n",
    "from sklearn.pipeline import Pipeline\n",
    "from sklearn.linear_model import LinearRegression, Ridge\n",
    "from sklearn.preprocessing import PolynomialFeatures\n",
    "from sklearn.datasets import load_diabetes\n",
    "from sklearn.model_selection import train_test_split, cross_validate, GridSearchCV\n",
    "from sklearn.metrics import (\n",
    "    mean_squared_error, mean_absolute_error, mean_absolute_percentage_error, r2_score, make_scorer\n",
    ")"
   ]
  },
  {
   "cell_type": "markdown",
   "metadata": {},
   "source": [
    "# Task\n",
    "1. Побудувати моделi класифiкацiї або регресiї згiдно з варiантом.\n",
    "2. Виконати прогнози на основi побудованих моделей.\n",
    "3. Для кожної з моделей оцiнити, чи має мiсце перенавчання.\n",
    "7. В задачах регресiї розрахувати критерiї якостi для кожної моделi окремо\n",
    "на навчальнiй та перевiрочнiй множинах:\n",
    "- коефiцiєнт детермiнацiї R2\n",
    "- помилки RMSE, MAE та MAPE\n",
    "\n",
    "8. Виконати решiтчастий пошук (grid search) для пiдбору гiперпараметрiв\n",
    "моделей.\n",
    "9. Зробити висновки про якiсть роботи моделей на дослiджених даних. На\n",
    "основi критерiїв якостi вибрати найкращу модель.\n",
    "\n",
    "10. Навчити моделi на пiдмножинах навчальних даних. Оцiнити, наскiльки\n",
    "розмiр навчальної множини впливає на якiсть моделi."
   ]
  },
  {
   "cell_type": "markdown",
   "metadata": {},
   "source": [
    "# Helpers"
   ]
  },
  {
   "cell_type": "code",
   "execution_count": 28,
   "metadata": {},
   "outputs": [],
   "source": [
    "FEATURES, LABELS = load_diabetes(return_X_y=True)\n",
    "\n",
    "class Score:\n",
    "    SCORING = {\n",
    "        \"rmse\": make_scorer(lambda *args: mean_squared_error(squared=False, *args), greater_is_better=False),\n",
    "        \"mae\": make_scorer(mean_absolute_error, greater_is_better=False),\n",
    "        \"mape\": make_scorer(mean_absolute_percentage_error, greater_is_better=False),\n",
    "        \"r2\": make_scorer(r2_score),\n",
    "    }\n",
    "    \n",
    "    @classmethod\n",
    "    def score(cls, regressor, X, y):\n",
    "        scores = {\n",
    "             score_name: score(regressor, X, y)\n",
    "             for score_name, score in cls.SCORING.items()\n",
    "        }\n",
    "        return scores\n",
    "    \n",
    "    @classmethod\n",
    "    def perform(cls, regressor, X_train, X_test, y_train, y_test, fit_model=True):\n",
    "        if fit_model:\n",
    "            regressor.fit(X_train, y_train)\n",
    "        return {\n",
    "            \"train_score\": cls.score(regressor, X_train, y_train),\n",
    "            \"test_score\": cls.score(regressor, X_test, y_test)\n",
    "        }\n",
    "    \n",
    "\n",
    "def do_grid_search(\n",
    "    regressor,\n",
    "    param_grid,\n",
    "    features=FEATURES,\n",
    "    labels=LABELS,\n",
    "    cv=10,\n",
    "    scoring=Score.SCORING,\n",
    "    refit='rmse'\n",
    "):\n",
    "    grid_search = GridSearchCV(\n",
    "        regressor,\n",
    "        param_grid,\n",
    "        cv=cv,\n",
    "        scoring=scoring,\n",
    "        refit=refit,\n",
    "    )\n",
    "    grid_search.fit(features, labels)\n",
    "    print(f\"Model trained with params: {grid_search.best_params_}\")\n",
    "    \n",
    "    return grid_search.best_estimator_"
   ]
  },
  {
   "cell_type": "markdown",
   "metadata": {},
   "source": [
    "# Train-test split"
   ]
  },
  {
   "cell_type": "code",
   "execution_count": 3,
   "metadata": {},
   "outputs": [],
   "source": [
    "data = train_test_split(FEATURES, LABELS, test_size=0.33, random_state=42)\n",
    "X_train, X_test, y_train, y_test = data"
   ]
  },
  {
   "cell_type": "markdown",
   "metadata": {},
   "source": [
    "# Linear Regression model"
   ]
  },
  {
   "cell_type": "code",
   "execution_count": 4,
   "metadata": {},
   "outputs": [
    {
     "data": {
      "text/plain": [
       "{'train_score': {'rmse': -54.30733066880185,\n",
       "  'mae': -44.2421626435625,\n",
       "  'mape': -0.40130200347089584,\n",
       "  'r2': 0.5097554608164433},\n",
       " 'test_score': {'rmse': -53.08296873921689,\n",
       "  'mae': -41.96445302653266,\n",
       "  'mape': -0.35510850217076595,\n",
       "  'r2': 0.510395426135144}}"
      ]
     },
     "execution_count": 4,
     "metadata": {},
     "output_type": "execute_result"
    }
   ],
   "source": [
    "Score.perform(LinearRegression(), *data)"
   ]
  },
  {
   "cell_type": "code",
   "execution_count": 5,
   "metadata": {},
   "outputs": [
    {
     "data": {
      "text/plain": [
       "{'train_score': {'rmse': -159.67912970660745,\n",
       "  'mae': -149.88727293258984,\n",
       "  'mape': -1.176588043933387,\n",
       "  'r2': -3.238304596434448},\n",
       " 'test_score': {'rmse': -165.43771664042117,\n",
       "  'mae': -156.68744665721707,\n",
       "  'mape': -1.2208760330701383,\n",
       "  'r2': -3.7555868143387086}}"
      ]
     },
     "execution_count": 5,
     "metadata": {},
     "output_type": "execute_result"
    }
   ],
   "source": [
    "Score.perform(LinearRegression(fit_intercept=False), *data)"
   ]
  },
  {
   "cell_type": "markdown",
   "metadata": {},
   "source": [
    "# Ridge Regression model"
   ]
  },
  {
   "cell_type": "code",
   "execution_count": 6,
   "metadata": {},
   "outputs": [
    {
     "data": {
      "text/plain": [
       "{'train_score': {'rmse': -55.21031850110104,\n",
       "  'mae': -45.67250969301528,\n",
       "  'mape': -0.4189012396356422,\n",
       "  'r2': 0.4933169730597279},\n",
       " 'test_score': {'rmse': -53.05718162788213,\n",
       "  'mae': -42.161780462194116,\n",
       "  'mape': -0.36041423608166023,\n",
       "  'r2': 0.51087099942337}}"
      ]
     },
     "execution_count": 6,
     "metadata": {},
     "output_type": "execute_result"
    }
   ],
   "source": [
    "Score.perform(Ridge(alpha=0.2), *data)"
   ]
  },
  {
   "cell_type": "code",
   "execution_count": 7,
   "metadata": {},
   "outputs": [
    {
     "data": {
      "text/plain": [
       "{'train_score': {'rmse': -57.04970878986107,\n",
       "  'mae': -47.67302385671916,\n",
       "  'mape': -0.4417102264094104,\n",
       "  'r2': 0.4589932108940735},\n",
       " 'test_score': {'rmse': -54.19925056807602,\n",
       "  'mae': -43.789648645841325,\n",
       "  'mape': -0.3802392549514945,\n",
       "  'r2': 0.4895871231078325}}"
      ]
     },
     "execution_count": 7,
     "metadata": {},
     "output_type": "execute_result"
    }
   ],
   "source": [
    "Score.perform(Ridge(alpha=0.5), *data)"
   ]
  },
  {
   "cell_type": "code",
   "execution_count": 8,
   "metadata": {},
   "outputs": [
    {
     "data": {
      "text/plain": [
       "{'train_score': {'rmse': -59.76462054521214,\n",
       "  'mae': -50.57936975619187,\n",
       "  'mape': -0.47306361581535467,\n",
       "  'r2': 0.4062765748571143},\n",
       " 'test_score': {'rmse': -56.541826369317334,\n",
       "  'mae': -46.456263192524055,\n",
       "  'mape': -0.4088686982007224,\n",
       "  'r2': 0.44451194464421595}}"
      ]
     },
     "execution_count": 8,
     "metadata": {},
     "output_type": "execute_result"
    }
   ],
   "source": [
    "Score.perform(Ridge(), *data)"
   ]
  },
  {
   "cell_type": "markdown",
   "metadata": {},
   "source": [
    "# Linear Regression model with polynomial features pipeline"
   ]
  },
  {
   "cell_type": "code",
   "execution_count": 15,
   "metadata": {},
   "outputs": [
    {
     "data": {
      "text/plain": [
       "{'train_score': {'rmse': -49.40424962587918,\n",
       "  'mae': -39.50448535948076,\n",
       "  'mape': -0.3515539958065481,\n",
       "  'r2': 0.5942818223229758},\n",
       " 'test_score': {'rmse': -55.68127716654499,\n",
       "  'mae': -44.17257984703669,\n",
       "  'mape': -0.3843193811618853,\n",
       "  'r2': 0.4612919865503654}}"
      ]
     },
     "execution_count": 15,
     "metadata": {},
     "output_type": "execute_result"
    }
   ],
   "source": [
    "poly_pipeline = Pipeline([\n",
    "    (\"poly\", PolynomialFeatures(degree=2)),\n",
    "    (\"linear\", LinearRegression())\n",
    "])\n",
    "Score.perform(poly_pipeline, *data)"
   ]
  },
  {
   "cell_type": "markdown",
   "metadata": {},
   "source": [
    "# Ridge: grid search"
   ]
  },
  {
   "cell_type": "code",
   "execution_count": 29,
   "metadata": {},
   "outputs": [
    {
     "name": "stdout",
     "output_type": "stream",
     "text": [
      "Model trained with params: {'solver': 'sag', 'tol': 0.01}\n"
     ]
    },
    {
     "data": {
      "text/plain": [
       "GridSearchCV(cv=10, estimator=Ridge(),\n",
       "             param_grid={'solver': ['auto', 'svd', 'cholesky', 'lsqr',\n",
       "                                    'sparse_cg', 'sag', 'saga'],\n",
       "                         'tol': [0.01, 0.001, 0.0001, 1e-05]},\n",
       "             refit='rmse', return_train_score=True,\n",
       "             scoring={'mae': make_scorer(mean_absolute_error, greater_is_better=False),\n",
       "                      'mape': make_scorer(mean_absolute_percentage_error, greater_is_better=False),\n",
       "                      'r2': make_scorer(r2_score),\n",
       "                      'rmse': make_scorer(<lambda>, greater_is_better=False)})"
      ]
     },
     "execution_count": 29,
     "metadata": {},
     "output_type": "execute_result"
    }
   ],
   "source": [
    "model = do_grid_search(\n",
    "    Ridge(),\n",
    "    {\n",
    "        'tol': [1e-2, 1e-3, 1e-4, 1e-5],\n",
    "        'solver': ['auto', 'svd', 'cholesky', 'lsqr', 'sparse_cg', 'sag', 'saga'],\n",
    "    },\n",
    ")\n",
    "train_score"
   ]
  },
  {
   "cell_type": "markdown",
   "metadata": {},
   "source": [
    "# Pipeline: grid search"
   ]
  },
  {
   "cell_type": "code",
   "execution_count": 17,
   "metadata": {},
   "outputs": [
    {
     "name": "stdout",
     "output_type": "stream",
     "text": [
      "Model trained with params: {'poly__degree': 1}\n"
     ]
    },
    {
     "data": {
      "text/plain": [
       "{'train_score': {'rmse': -54.30733066880185,\n",
       "  'mae': -44.242162643562494,\n",
       "  'mape': -0.40130200347089584,\n",
       "  'r2': 0.5097554608164433},\n",
       " 'test_score': {'rmse': -53.08296873921689,\n",
       "  'mae': -41.96445302653266,\n",
       "  'mape': -0.35510850217076595,\n",
       "  'r2': 0.510395426135144}}"
      ]
     },
     "execution_count": 17,
     "metadata": {},
     "output_type": "execute_result"
    }
   ],
   "source": [
    "model = do_grid_search(\n",
    "    poly_pipeline,\n",
    "    {'poly__degree': range(1, 5)},\n",
    "    features=X_train,\n",
    "    labels=y_train\n",
    ")\n",
    "scores = Score.perform(model, *data, fit_model=False)\n",
    "scores"
   ]
  },
  {
   "cell_type": "code",
   "execution_count": null,
   "metadata": {},
   "outputs": [],
   "source": []
  }
 ],
 "metadata": {
  "kernelspec": {
   "display_name": "Python 3 (ipykernel)",
   "language": "python",
   "name": "python3"
  },
  "language_info": {
   "codemirror_mode": {
    "name": "ipython",
    "version": 3
   },
   "file_extension": ".py",
   "mimetype": "text/x-python",
   "name": "python",
   "nbconvert_exporter": "python",
   "pygments_lexer": "ipython3",
   "version": "3.8.10"
  }
 },
 "nbformat": 4,
 "nbformat_minor": 1
}
